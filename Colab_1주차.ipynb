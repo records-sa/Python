{
  "nbformat": 4,
  "nbformat_minor": 0,
  "metadata": {
    "colab": {
      "provenance": [],
      "authorship_tag": "ABX9TyMulqZGgSoLQWctEWEPE2xw",
      "include_colab_link": true
    },
    "kernelspec": {
      "name": "python3",
      "display_name": "Python 3"
    },
    "language_info": {
      "name": "python"
    }
  },
  "cells": [
    {
      "cell_type": "markdown",
      "metadata": {
        "id": "view-in-github",
        "colab_type": "text"
      },
      "source": [
        "<a href=\"https://colab.research.google.com/github/records-sa/Python/blob/main/Colab_1%EC%A3%BC%EC%B0%A8.ipynb\" target=\"_parent\"><img src=\"https://colab.research.google.com/assets/colab-badge.svg\" alt=\"Open In Colab\"/></a>"
      ]
    },
    {
      "cell_type": "code",
      "execution_count": null,
      "metadata": {
        "colab": {
          "base_uri": "https://localhost:8080/",
          "height": 35
        },
        "id": "oTngcR2s1ceu",
        "outputId": "7e292263-d760-4d3a-99d8-10a816daf192"
      },
      "outputs": [
        {
          "output_type": "execute_result",
          "data": {
            "text/plain": [
              "'영희'"
            ],
            "application/vnd.google.colaboratory.intrinsic+json": {
              "type": "string"
            }
          },
          "metadata": {},
          "execution_count": 15
        }
      ],
      "source": [
        "\n",
        "a_list = [{'name':'철수', 'age':'15'},{'name':'영희', 'age':'35'}]\n",
        "\n",
        "a_list[1]['name']\n"
      ]
    },
    {
      "cell_type": "code",
      "source": [
        "def sum(a,b):\n",
        "  print('hello world')\n",
        "  return a+b\n",
        "\n",
        "result = sum(2,3)\n",
        "\n",
        "result"
      ],
      "metadata": {
        "colab": {
          "base_uri": "https://localhost:8080/"
        },
        "id": "44rqmNl95-9r",
        "outputId": "1a0c4483-d6e1-444b-8424-50d5ba695109"
      },
      "execution_count": null,
      "outputs": [
        {
          "output_type": "stream",
          "name": "stdout",
          "text": [
            "hello world\n"
          ]
        },
        {
          "output_type": "execute_result",
          "data": {
            "text/plain": [
              "5"
            ]
          },
          "metadata": {},
          "execution_count": 18
        }
      ]
    },
    {
      "cell_type": "code",
      "source": [
        "def is_adult(age):\n",
        "  if age > 20:\n",
        "    print('성인')\n",
        "  else:\n",
        "    print('청소년')\n"
      ],
      "metadata": {
        "id": "xmsiT4dn6-wk"
      },
      "execution_count": null,
      "outputs": []
    },
    {
      "cell_type": "code",
      "source": [
        "ages = [15,25,30,8,13]\n",
        "\n",
        "for age in ages:\n",
        "  is_adult(age)"
      ],
      "metadata": {
        "colab": {
          "base_uri": "https://localhost:8080/"
        },
        "id": "xnKuVb-q7o65",
        "outputId": "c35998e1-c767-423f-cc32-9991177c8a0a"
      },
      "execution_count": null,
      "outputs": [
        {
          "output_type": "stream",
          "name": "stdout",
          "text": [
            "청소년\n",
            "성인\n",
            "성인\n",
            "청소년\n",
            "청소년\n"
          ]
        }
      ]
    },
    {
      "cell_type": "markdown",
      "source": [
        "라이브러리 불러오기"
      ],
      "metadata": {
        "id": "RaMncjHv_hU6"
      }
    },
    {
      "cell_type": "code",
      "source": [
        "!pip install bs4 requests"
      ],
      "metadata": {
        "colab": {
          "base_uri": "https://localhost:8080/"
        },
        "id": "74S7rk-a_fEQ",
        "outputId": "91de1554-9ade-40d1-b5d9-f3b85a8902ed"
      },
      "execution_count": null,
      "outputs": [
        {
          "output_type": "stream",
          "name": "stdout",
          "text": [
            "Looking in indexes: https://pypi.org/simple, https://us-python.pkg.dev/colab-wheels/public/simple/\n",
            "Requirement already satisfied: bs4 in /usr/local/lib/python3.8/dist-packages (0.0.1)\n",
            "Requirement already satisfied: requests in /usr/local/lib/python3.8/dist-packages (2.25.1)\n",
            "Requirement already satisfied: beautifulsoup4 in /usr/local/lib/python3.8/dist-packages (from bs4) (4.6.3)\n",
            "Requirement already satisfied: certifi>=2017.4.17 in /usr/local/lib/python3.8/dist-packages (from requests) (2022.12.7)\n",
            "Requirement already satisfied: chardet<5,>=3.0.2 in /usr/local/lib/python3.8/dist-packages (from requests) (4.0.0)\n",
            "Requirement already satisfied: urllib3<1.27,>=1.21.1 in /usr/local/lib/python3.8/dist-packages (from requests) (1.24.3)\n",
            "Requirement already satisfied: idna<3,>=2.5 in /usr/local/lib/python3.8/dist-packages (from requests) (2.10)\n"
          ]
        }
      ]
    },
    {
      "cell_type": "code",
      "source": [
        "import requests\n",
        "from bs4 import BeautifulSoup\n",
        "\n",
        "from openpyxl import Workbook\n",
        "from datetime import datetime\n",
        "\n",
        "def get_news(keyword):\n",
        "  wb = Workbook()\n",
        "  sheet = wb.active\n",
        "\n",
        "  headers = {'User-Agent' : 'Mozilla/5.0 (Windows NT 10.0; Win64; x64)AppleWebKit/537.36 (KHTML, like Gecko) Chrome/73.0.3683.86 Safari/537.36'}\n",
        "  data = requests.get(f'https://search.naver.com/search.naver?where=news&ie=utf8&sm=nws_hty&query={keyword}',headers=headers)\n",
        "\n",
        "  soup = BeautifulSoup(data.text, 'html.parser')\n",
        "  lis = soup.select('#main_pack > section > div > div.group_news > ul > li')\n",
        "\n",
        "  for li in lis:\n",
        "    a = li.select_one('a.news_tit')\n",
        "    row = [a.text, a['href']]\n",
        "    sheet.append(row)\n",
        "\n",
        "  today = datetime.today().strftime(\"%Y-%m-%d\")\n",
        "\n",
        "  wb.save(f\"news/{today}_{keyword}.xlsx\")\n",
        "  wb.close()\n"
      ],
      "metadata": {
        "id": "oXF59e-r_79I"
      },
      "execution_count": null,
      "outputs": []
    },
    {
      "cell_type": "code",
      "source": [
        "keywords = ['삼성전자','LG에너지솔루션','SK하이닉스','NAVER','삼성바이오로직스','삼성전자우','카카오','삼성SDI','현대차','LG화학','기아','POSCO홀딩스','KB금융','카카오뱅크','셀트리온','신한지주','삼성물산','현대모비스','SK이노베이션','LG전자','카카오페이','SK','한국전력','크래프톤','하나금융지주','LG생활건강','HMM','삼성생명','하이브','두산중공업','SK텔레콤','삼성전기','SK바이오사이언스','LG','S-Oil','고려아연','KT&G','우리금융지주','대한항공','삼성에스디에스','현대중공업','엔씨소프트','삼성화재','아모레퍼시픽','KT','포스코케미칼','넷마블','SK아이이테크놀로지','LG이노텍','기업은행']\n",
        "\n",
        "for keyword in keywords:\n",
        "  print(keyword)\n",
        "  get_news(keyword)"
      ],
      "metadata": {
        "id": "_kve3Et0xa20"
      },
      "execution_count": null,
      "outputs": []
    },
    {
      "cell_type": "code",
      "source": [
        "import os\n",
        "\n",
        "path = '/content/news'\n",
        "files = os.listdir(path)\n",
        "\n",
        "for name in files:\n",
        "  new_name = name.split('.')[0]+'(뉴스).xlsx'\n",
        "  os.rename(f'/content/news/{name}',f'/content/news/{new_name}')"
      ],
      "metadata": {
        "id": "vlbI8BhdZlQN"
      },
      "execution_count": null,
      "outputs": []
    },
    {
      "cell_type": "code",
      "source": [
        "import urllib.request\n",
        "\n",
        "url = 'https://ssl.pstatic.net/imgfinance/chart/item/area/year3/005930.png'\n",
        "urllib.request.urlretrieve(url, \"삼성전자.png\")"
      ],
      "metadata": {
        "colab": {
          "base_uri": "https://localhost:8080/"
        },
        "id": "1wXxOGZsc6fA",
        "outputId": "775d0ef4-e4bc-4348-dd85-530b281bcf8b"
      },
      "execution_count": null,
      "outputs": [
        {
          "output_type": "execute_result",
          "data": {
            "text/plain": [
              "('삼성전자.png', <http.client.HTTPMessage at 0x7fe3bad89520>)"
            ]
          },
          "metadata": {},
          "execution_count": 24
        }
      ]
    },
    {
      "cell_type": "code",
      "source": [
        "import openpyxl\n",
        "import urllib.request\n",
        "\n",
        "wb = openpyxl.load_workbook('관리종목.xlsx')\n",
        "sheet = wb['종목']\n",
        "\n",
        "new_rows = list(sheet.rows)[1:]\n",
        "\n",
        "for row in new_rows:\n",
        "  url = f'https://ssl.pstatic.net/imgfinance/chart/item/area/year3/{row[1].value}.png'\n",
        "  urllib.request.urlretrieve(url, f\"imgs/{row[0].value}.png\")\n"
      ],
      "metadata": {
        "id": "vfiHp64rdqP6"
      },
      "execution_count": null,
      "outputs": []
    }
  ]
}