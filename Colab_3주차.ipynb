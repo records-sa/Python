{
  "nbformat": 4,
  "nbformat_minor": 0,
  "metadata": {
    "colab": {
      "provenance": [],
      "authorship_tag": "ABX9TyMvoex3ljv9UqoNelLdaR5Z",
      "include_colab_link": true
    },
    "kernelspec": {
      "name": "python3",
      "display_name": "Python 3"
    },
    "language_info": {
      "name": "python"
    }
  },
  "cells": [
    {
      "cell_type": "markdown",
      "metadata": {
        "id": "view-in-github",
        "colab_type": "text"
      },
      "source": [
        "<a href=\"https://colab.research.google.com/github/records-sa/Python/blob/main/Colab_3%EC%A3%BC%EC%B0%A8.ipynb\" target=\"_parent\"><img src=\"https://colab.research.google.com/assets/colab-badge.svg\" alt=\"Open In Colab\"/></a>"
      ]
    },
    {
      "cell_type": "code",
      "execution_count": null,
      "metadata": {
        "id": "Nz7ao3ItEQS8"
      },
      "outputs": [],
      "source": [
        "!pip install dart-fss"
      ]
    },
    {
      "cell_type": "code",
      "source": [
        "import dart_fss as dart_fss\n",
        "import pandas as pd\n",
        "\n",
        "api_key = '904e27f084e54f638fd2be6ba23b57fe74d70203'\n",
        "dart_fss.set_api_key(api_key=api_key)\n"
      ],
      "metadata": {
        "id": "HiZJou-h7ZJQ"
      },
      "execution_count": null,
      "outputs": []
    },
    {
      "cell_type": "code",
      "source": [
        "all = dart_fss.api.filings.get_corp_code()"
      ],
      "metadata": {
        "id": "DMWyfU4T8Iqc"
      },
      "execution_count": null,
      "outputs": []
    },
    {
      "cell_type": "code",
      "source": [
        "df = pd.DataFrame(all)\n",
        "\n",
        "df_listed = df[df['stock_code'].notnull()]\n",
        "df_non_listed = df[df['stock_code'].isnull()]\n",
        "\n",
        "df_listed.to_excel('상장종목.xlsx')\n",
        "df_non_listed.to_excel('비상장종목.xlsx')"
      ],
      "metadata": {
        "id": "tdjdnuV28YpA"
      },
      "execution_count": 9,
      "outputs": []
    },
    {
      "cell_type": "code",
      "source": [
        "def get_shareholders(corp_code):\n",
        "  data = dart_fss.api.info.hyslr_sttus(corp_code, '2021', '11011')\n",
        "\n",
        "  df = pd.DataFrame(data['list'])\n",
        "  df = df[['corp_name','nm','relate','bsis_posesn_stock_qota_rt','trmend_posesn_stock_qota_rt','rm']]\n",
        "\n",
        "  df.columns = ['기업명','이름','관계','기초지분율','기말지분율','비고']\n",
        "\n",
        "  df = df[df['관계'].notnull()]\n",
        "\n",
        "  df['기초지분율'] = pd.to_numeric(df['기초지분율'])\n",
        "  df['기말지분율'] = pd.to_numeric(df['기말지분율'])\n",
        "\n",
        "  return df.sort_values(by='기초지분율', ascending=False).head(3)"
      ],
      "metadata": {
        "id": "euj3Htj4MQ6m"
      },
      "execution_count": 55,
      "outputs": []
    },
    {
      "cell_type": "code",
      "source": [
        "corp_codes = list(df_listed.sample(10)['corp_code'])\n",
        "\n",
        "dfs = []\n",
        "for corp_code in corp_codes:\n",
        "  try:\n",
        "    df = get_shareholders(corp_code)\n",
        "    dfs.append(df)\n",
        "  except:\n",
        "    print(f'error - {corp_code}')\n",
        "\n",
        "df_result = pd.concat(dfs)\n",
        "df_result['증감'] = df_result['기말지분율'] - df_result['기초지분율']\n",
        "\n",
        "df_result.sort_values(by='증감', ascending=False)\n"
      ],
      "metadata": {
        "id": "HmazUQkVOdAN"
      },
      "execution_count": null,
      "outputs": []
    },
    {
      "cell_type": "code",
      "source": [
        "def get_salary(name):\n",
        "  corp_code = df_listed[df_listed['corp_name'] == name].iloc[0,0]\n",
        "  data = dart_fss.api.info.indvdl_by_pay(corp_code, '2021', '11011')\n",
        "\n",
        "  df = pd.DataFrame(data['list'])\n",
        "\n",
        "  df = df[['corp_name','nm','ofcps','mendng_totamt']]\n",
        "\n",
        "  df.columns = ['기업명', '이름', '역할', '보수']\n",
        "\n",
        "  df['보수'] = pd.to_numeric(df['보수'].str.replace(',',''))\n",
        "\n",
        "  return df\n"
      ],
      "metadata": {
        "id": "iABN8qL2-JYD"
      },
      "execution_count": null,
      "outputs": []
    },
    {
      "cell_type": "code",
      "source": [
        "names = ['삼성전자','LG에너지솔루션','SK하이닉스','NAVER','삼성바이오로직스','삼성전자우','카카오','삼성SDI','현대차','LG화학','기아','POSCO홀딩스','KB금융','카카오뱅크','셀트리온','신한지주','삼성물산','현대모비스','SK이노베이션','LG전자','카카오페이','SK','한국전력','크래프톤','하나금융지주','LG생활건강','HMM','삼성생명','하이브','두산중공업','SK텔레콤','삼성전기','SK바이오사이언스','LG','S-Oil','고려아연','KT&G','우리금융지주','대한항공','삼성에스디에스','현대중공업','엔씨소프트','삼성화재','아모레퍼시픽','KT','포스코케미칼','넷마블','SK아이이테크놀로지','LG이노텍','기업은행']\n",
        "\n",
        "dfs = []\n",
        "for name in names:\n",
        "  try:\n",
        "    df = get_salary(name)\n",
        "    dfs.append(df)\n",
        "  except:\n",
        "    print(f'error - {name}')\n",
        "\n",
        "df_result = pd.concat(dfs)\n",
        "\n",
        "df_result"
      ],
      "metadata": {
        "id": "xvsgbTMKFiz-"
      },
      "execution_count": null,
      "outputs": []
    },
    {
      "cell_type": "code",
      "source": [
        "df_result.sort_values(by='보수', ascending=False).head(30)"
      ],
      "metadata": {
        "id": "jf5SLFQKHN2i"
      },
      "execution_count": null,
      "outputs": []
    },
    {
      "cell_type": "code",
      "source": [
        "def get_profit(name):\n",
        "  corp_code = df_listed[df_listed['corp_name'] == name].iloc[0,0]\n",
        "  data = dart_fss.api.finance.fnltt_singl_acnt(corp_code, '2021', '11011')\n",
        "  df = pd.DataFrame(data['list'])\n",
        "\n",
        "  cond = (df['fs_div'] == 'CFS') & (df['account_nm'] == '이익잉여금')\n",
        "  df = df[cond]\n",
        "\n",
        "  df['name'] = name\n",
        "\n",
        "  df = df[['name','thstrm_amount','frmtrm_amount']]\n",
        "  df.columns = ['기업명','당기','전기']\n",
        "\n",
        "  df['당기'] = pd.to_numeric(df['당기'].str.replace(',',''))\n",
        "  df['전기'] = pd.to_numeric(df['전기'].str.replace(',',''))\n",
        "\n",
        "  df['증감'] = df['당기'] - df['전기']\n",
        "  df['증감율'] = abs(df['증감']) / abs(df['전기'])\n",
        "\n",
        "  return df"
      ],
      "metadata": {
        "id": "-IF3FcnEQbsl"
      },
      "execution_count": 69,
      "outputs": []
    },
    {
      "cell_type": "code",
      "source": [
        "names = list(df_listed.sample(10)['corp_name'])\n",
        "\n",
        "dfs = []\n",
        "for name in names:\n",
        "  try:\n",
        "    df = get_profit(name)\n",
        "    dfs.append(df)\n",
        "  except:\n",
        "    print(f'error - {name}')\n",
        "\n",
        "df_result = pd.concat(dfs)\n",
        "df_result.sort_values(by='증감율', ascending=False)"
      ],
      "metadata": {
        "colab": {
          "base_uri": "https://localhost:8080/",
          "height": 267
        },
        "id": "fDULQNWqS0uw",
        "outputId": "2c8a3b98-5e4f-4f9d-9f2a-8f0c6906bfe0"
      },
      "execution_count": 73,
      "outputs": [
        {
          "output_type": "stream",
          "name": "stdout",
          "text": [
            "error - 키움제6호스팩\n",
            "error - 그로웰전자\n",
            "error - 부산도시가스\n",
            "error - 유비온\n",
            "error - 이노블루\n"
          ]
        },
        {
          "output_type": "execute_result",
          "data": {
            "text/plain": [
              "     기업명            당기            전기            증감       증감율\n",
              "7    쏠리드   38364485206   14509285028   23855200178  1.644133\n",
              "7   동국제강  981476584895  448493672913  532982911982  1.188384\n",
              "7  골드앤에스  -52116388794  -52886698849     770310055  0.014565\n",
              "7  노루홀딩스  308296816940  311333116732   -3036299792  0.009753"
            ],
            "text/html": [
              "\n",
              "  <div id=\"df-dfc24474-576c-46eb-820c-ca93922f20b4\">\n",
              "    <div class=\"colab-df-container\">\n",
              "      <div>\n",
              "<style scoped>\n",
              "    .dataframe tbody tr th:only-of-type {\n",
              "        vertical-align: middle;\n",
              "    }\n",
              "\n",
              "    .dataframe tbody tr th {\n",
              "        vertical-align: top;\n",
              "    }\n",
              "\n",
              "    .dataframe thead th {\n",
              "        text-align: right;\n",
              "    }\n",
              "</style>\n",
              "<table border=\"1\" class=\"dataframe\">\n",
              "  <thead>\n",
              "    <tr style=\"text-align: right;\">\n",
              "      <th></th>\n",
              "      <th>기업명</th>\n",
              "      <th>당기</th>\n",
              "      <th>전기</th>\n",
              "      <th>증감</th>\n",
              "      <th>증감율</th>\n",
              "    </tr>\n",
              "  </thead>\n",
              "  <tbody>\n",
              "    <tr>\n",
              "      <th>7</th>\n",
              "      <td>쏠리드</td>\n",
              "      <td>38364485206</td>\n",
              "      <td>14509285028</td>\n",
              "      <td>23855200178</td>\n",
              "      <td>1.644133</td>\n",
              "    </tr>\n",
              "    <tr>\n",
              "      <th>7</th>\n",
              "      <td>동국제강</td>\n",
              "      <td>981476584895</td>\n",
              "      <td>448493672913</td>\n",
              "      <td>532982911982</td>\n",
              "      <td>1.188384</td>\n",
              "    </tr>\n",
              "    <tr>\n",
              "      <th>7</th>\n",
              "      <td>골드앤에스</td>\n",
              "      <td>-52116388794</td>\n",
              "      <td>-52886698849</td>\n",
              "      <td>770310055</td>\n",
              "      <td>0.014565</td>\n",
              "    </tr>\n",
              "    <tr>\n",
              "      <th>7</th>\n",
              "      <td>노루홀딩스</td>\n",
              "      <td>308296816940</td>\n",
              "      <td>311333116732</td>\n",
              "      <td>-3036299792</td>\n",
              "      <td>0.009753</td>\n",
              "    </tr>\n",
              "  </tbody>\n",
              "</table>\n",
              "</div>\n",
              "      <button class=\"colab-df-convert\" onclick=\"convertToInteractive('df-dfc24474-576c-46eb-820c-ca93922f20b4')\"\n",
              "              title=\"Convert this dataframe to an interactive table.\"\n",
              "              style=\"display:none;\">\n",
              "        \n",
              "  <svg xmlns=\"http://www.w3.org/2000/svg\" height=\"24px\"viewBox=\"0 0 24 24\"\n",
              "       width=\"24px\">\n",
              "    <path d=\"M0 0h24v24H0V0z\" fill=\"none\"/>\n",
              "    <path d=\"M18.56 5.44l.94 2.06.94-2.06 2.06-.94-2.06-.94-.94-2.06-.94 2.06-2.06.94zm-11 1L8.5 8.5l.94-2.06 2.06-.94-2.06-.94L8.5 2.5l-.94 2.06-2.06.94zm10 10l.94 2.06.94-2.06 2.06-.94-2.06-.94-.94-2.06-.94 2.06-2.06.94z\"/><path d=\"M17.41 7.96l-1.37-1.37c-.4-.4-.92-.59-1.43-.59-.52 0-1.04.2-1.43.59L10.3 9.45l-7.72 7.72c-.78.78-.78 2.05 0 2.83L4 21.41c.39.39.9.59 1.41.59.51 0 1.02-.2 1.41-.59l7.78-7.78 2.81-2.81c.8-.78.8-2.07 0-2.86zM5.41 20L4 18.59l7.72-7.72 1.47 1.35L5.41 20z\"/>\n",
              "  </svg>\n",
              "      </button>\n",
              "      \n",
              "  <style>\n",
              "    .colab-df-container {\n",
              "      display:flex;\n",
              "      flex-wrap:wrap;\n",
              "      gap: 12px;\n",
              "    }\n",
              "\n",
              "    .colab-df-convert {\n",
              "      background-color: #E8F0FE;\n",
              "      border: none;\n",
              "      border-radius: 50%;\n",
              "      cursor: pointer;\n",
              "      display: none;\n",
              "      fill: #1967D2;\n",
              "      height: 32px;\n",
              "      padding: 0 0 0 0;\n",
              "      width: 32px;\n",
              "    }\n",
              "\n",
              "    .colab-df-convert:hover {\n",
              "      background-color: #E2EBFA;\n",
              "      box-shadow: 0px 1px 2px rgba(60, 64, 67, 0.3), 0px 1px 3px 1px rgba(60, 64, 67, 0.15);\n",
              "      fill: #174EA6;\n",
              "    }\n",
              "\n",
              "    [theme=dark] .colab-df-convert {\n",
              "      background-color: #3B4455;\n",
              "      fill: #D2E3FC;\n",
              "    }\n",
              "\n",
              "    [theme=dark] .colab-df-convert:hover {\n",
              "      background-color: #434B5C;\n",
              "      box-shadow: 0px 1px 3px 1px rgba(0, 0, 0, 0.15);\n",
              "      filter: drop-shadow(0px 1px 2px rgba(0, 0, 0, 0.3));\n",
              "      fill: #FFFFFF;\n",
              "    }\n",
              "  </style>\n",
              "\n",
              "      <script>\n",
              "        const buttonEl =\n",
              "          document.querySelector('#df-dfc24474-576c-46eb-820c-ca93922f20b4 button.colab-df-convert');\n",
              "        buttonEl.style.display =\n",
              "          google.colab.kernel.accessAllowed ? 'block' : 'none';\n",
              "\n",
              "        async function convertToInteractive(key) {\n",
              "          const element = document.querySelector('#df-dfc24474-576c-46eb-820c-ca93922f20b4');\n",
              "          const dataTable =\n",
              "            await google.colab.kernel.invokeFunction('convertToInteractive',\n",
              "                                                     [key], {});\n",
              "          if (!dataTable) return;\n",
              "\n",
              "          const docLinkHtml = 'Like what you see? Visit the ' +\n",
              "            '<a target=\"_blank\" href=https://colab.research.google.com/notebooks/data_table.ipynb>data table notebook</a>'\n",
              "            + ' to learn more about interactive tables.';\n",
              "          element.innerHTML = '';\n",
              "          dataTable['output_type'] = 'display_data';\n",
              "          await google.colab.output.renderOutput(dataTable, element);\n",
              "          const docLink = document.createElement('div');\n",
              "          docLink.innerHTML = docLinkHtml;\n",
              "          element.appendChild(docLink);\n",
              "        }\n",
              "      </script>\n",
              "    </div>\n",
              "  </div>\n",
              "  "
            ]
          },
          "metadata": {},
          "execution_count": 73
        }
      ]
    }
  ]
}